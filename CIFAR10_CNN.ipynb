{
  "nbformat": 4,
  "nbformat_minor": 0,
  "metadata": {
    "colab": {
      "name": "CIFAR10-CNN.ipynb",
      "provenance": [],
      "collapsed_sections": [],
      "authorship_tag": "ABX9TyMlhST2WUCnbKZF+5Nwbcv7",
      "include_colab_link": true
    },
    "kernelspec": {
      "name": "python3",
      "display_name": "Python 3"
    },
    "language_info": {
      "name": "python"
    },
    "accelerator": "GPU"
  },
  "cells": [
    {
      "cell_type": "markdown",
      "metadata": {
        "id": "view-in-github",
        "colab_type": "text"
      },
      "source": [
        "<a href=\"https://colab.research.google.com/github/mohammad-hosein/CIFAR10-CNN/blob/main/CIFAR10_CNN.ipynb\" target=\"_parent\"><img src=\"https://colab.research.google.com/assets/colab-badge.svg\" alt=\"Open In Colab\"/></a>"
      ]
    },
    {
      "cell_type": "code",
      "metadata": {
        "id": "rqpvaES7pEyG"
      },
      "source": [
        "import numpy as np\n",
        "import matplotlib.pyplot as plt\n"
      ],
      "execution_count": null,
      "outputs": []
    },
    {
      "cell_type": "code",
      "metadata": {
        "id": "J0XqfEJ6s7Hc"
      },
      "source": [
        "import tensorflow as tf\n",
        "from tensorflow.keras.datasets import cifar10\n",
        "from tensorflow.keras.models import Sequential"
      ],
      "execution_count": null,
      "outputs": []
    },
    {
      "cell_type": "code",
      "metadata": {
        "id": "wLn3NTuftPyT"
      },
      "source": [
        "#CIFAR10\n",
        "(x_train, y_train), (x_test, y_test) =cifar10.load_data()"
      ],
      "execution_count": null,
      "outputs": []
    },
    {
      "cell_type": "code",
      "metadata": {
        "colab": {
          "base_uri": "https://localhost:8080/"
        },
        "id": "kVasGaAItosB",
        "outputId": "856eebc5-44e9-4908-9e6e-d79da4f8c97f"
      },
      "source": [
        "x_train.shape"
      ],
      "execution_count": null,
      "outputs": [
        {
          "output_type": "execute_result",
          "data": {
            "text/plain": [
              "(50000, 32, 32, 3)"
            ]
          },
          "metadata": {
            "tags": []
          },
          "execution_count": 4
        }
      ]
    },
    {
      "cell_type": "code",
      "metadata": {
        "colab": {
          "base_uri": "https://localhost:8080/"
        },
        "id": "nAGP_U9ytzUJ",
        "outputId": "d93eb976-6183-40c5-eb54-ba1c8fa4569d"
      },
      "source": [
        "x_test.shape"
      ],
      "execution_count": null,
      "outputs": [
        {
          "output_type": "execute_result",
          "data": {
            "text/plain": [
              "(10000, 32, 32, 3)"
            ]
          },
          "metadata": {
            "tags": []
          },
          "execution_count": 5
        }
      ]
    },
    {
      "cell_type": "code",
      "metadata": {
        "colab": {
          "base_uri": "https://localhost:8080/"
        },
        "id": "zqqZ0AaCt3GZ",
        "outputId": "1ede084c-3572-4f3b-8dc4-c90973f77f97"
      },
      "source": [
        "y_train.shape"
      ],
      "execution_count": null,
      "outputs": [
        {
          "output_type": "execute_result",
          "data": {
            "text/plain": [
              "(50000, 1)"
            ]
          },
          "metadata": {
            "tags": []
          },
          "execution_count": 6
        }
      ]
    },
    {
      "cell_type": "code",
      "metadata": {
        "colab": {
          "base_uri": "https://localhost:8080/"
        },
        "id": "EOb4VWSxt3Nj",
        "outputId": "6c90f1bc-b4f8-41e9-f48b-30c3d23e363f"
      },
      "source": [
        "y_test.shape"
      ],
      "execution_count": null,
      "outputs": [
        {
          "output_type": "execute_result",
          "data": {
            "text/plain": [
              "(10000, 1)"
            ]
          },
          "metadata": {
            "tags": []
          },
          "execution_count": 7
        }
      ]
    },
    {
      "cell_type": "code",
      "metadata": {
        "colab": {
          "base_uri": "https://localhost:8080/",
          "height": 283
        },
        "id": "PicSfG0HuFS4",
        "outputId": "d6335682-3a45-43c5-977c-0354ff9eaa13"
      },
      "source": [
        "test_img = x_train[123]\n",
        "plt.imshow(test_img)\n",
        "y_train[123]"
      ],
      "execution_count": null,
      "outputs": [
        {
          "output_type": "execute_result",
          "data": {
            "text/plain": [
              "array([2], dtype=uint8)"
            ]
          },
          "metadata": {
            "tags": []
          },
          "execution_count": 8
        },
        {
          "output_type": "display_data",
          "data": {
            "image/png": "[encoded data removed]",
            "text/plain": [
              "<Figure size 432x288 with 1 Axes>"
            ]
          },
          "metadata": {
            "tags": [],
            "needs_background": "light"
          }
        }
      ]
    },
    {
      "cell_type": "code",
      "metadata": {
        "colab": {
          "base_uri": "https://localhost:8080/"
        },
        "id": "MbAfeeO7yHyD",
        "outputId": "b46a1ffa-cffc-4b96-9ad3-2f6f463656ce"
      },
      "source": [
        "x_train = x_train.reshape(-1,32*32*3)/255.\n",
        "x_train.shape"
      ],
      "execution_count": null,
      "outputs": [
        {
          "output_type": "execute_result",
          "data": {
            "text/plain": [
              "(50000, 3072)"
            ]
          },
          "metadata": {
            "tags": []
          },
          "execution_count": 4
        }
      ]
    },
    {
      "cell_type": "code",
      "metadata": {
        "id": "NP-Maeme3B_r"
      },
      "source": [
        "x_train[0]"
      ],
      "execution_count": null,
      "outputs": []
    },
    {
      "cell_type": "code",
      "metadata": {
        "colab": {
          "base_uri": "https://localhost:8080/"
        },
        "id": "u_qiTPgT2FFF",
        "outputId": "82cb6c62-228b-4adc-e9fa-a3df00ba0a19"
      },
      "source": [
        "x_test = x_test.reshape(-1,32*32*3)/255.\n",
        "x_test.shape"
      ],
      "execution_count": null,
      "outputs": [
        {
          "output_type": "execute_result",
          "data": {
            "text/plain": [
              "(10000, 3072)"
            ]
          },
          "metadata": {
            "tags": []
          },
          "execution_count": 5
        }
      ]
    },
    {
      "cell_type": "code",
      "metadata": {
        "id": "dwk-i2__4bJC"
      },
      "source": [
        "from tensorflow.keras.utils import to_categorical"
      ],
      "execution_count": null,
      "outputs": []
    },
    {
      "cell_type": "code",
      "metadata": {
        "id": "vKFprkAk5UY8"
      },
      "source": [
        "y_train_cat = to_categorical(y_train, num_classes=10)\n",
        "y_test_cat = to_categorical(y_test, num_classes=10)"
      ],
      "execution_count": null,
      "outputs": []
    },
    {
      "cell_type": "code",
      "metadata": {
        "colab": {
          "base_uri": "https://localhost:8080/"
        },
        "id": "-kxc_FTQ5dgT",
        "outputId": "a0d7257f-66d1-4c0f-c9d4-bf9bd67a58f2"
      },
      "source": [
        "y_train_cat[0]"
      ],
      "execution_count": null,
      "outputs": [
        {
          "output_type": "execute_result",
          "data": {
            "text/plain": [
              "array([0., 0., 0., 0., 0., 0., 1., 0., 0., 0.], dtype=float32)"
            ]
          },
          "metadata": {
            "tags": []
          },
          "execution_count": 14
        }
      ]
    },
    {
      "cell_type": "code",
      "metadata": {
        "id": "oTCGttRN5-HF"
      },
      "source": [
        "from tensorflow.keras.layers import Dense, Input\n",
        "from tensorflow.keras.models import Sequential"
      ],
      "execution_count": null,
      "outputs": []
    },
    {
      "cell_type": "code",
      "metadata": {
        "id": "IinaBU7H6-H6"
      },
      "source": [
        "model = Sequential()"
      ],
      "execution_count": null,
      "outputs": []
    },
    {
      "cell_type": "code",
      "metadata": {
        "id": "Q5sG8Om87Hex"
      },
      "source": [
        "model.add(Input(shape=(32*32*3)))\n",
        "model.add(Dense(512, activation='relu'))\n",
        "model.add(Dense(512, activation='relu'))\n",
        "model.add(Dense(1024, activation='relu'))\n",
        "model.add(Dense(10, activation='softmax'))"
      ],
      "execution_count": null,
      "outputs": []
    },
    {
      "cell_type": "code",
      "metadata": {
        "id": "dz4tyYDY7s3g"
      },
      "source": [
        "model.compile(loss='categorical_crossentropy', optimizer='adam', metrics=['accuracy'])"
      ],
      "execution_count": null,
      "outputs": []
    },
    {
      "cell_type": "code",
      "metadata": {
        "colab": {
          "base_uri": "https://localhost:8080/"
        },
        "id": "WxOu_u6c72a5",
        "outputId": "3c270d2c-af36-4253-da4d-95eca653cf38"
      },
      "source": [
        "model.summary()"
      ],
      "execution_count": null,
      "outputs": [
        {
          "output_type": "stream",
          "text": [
            "Model: \"sequential\"\n",
            "_________________________________________________________________\n",
            "Layer (type)                 Output Shape              Param #   \n",
            "=================================================================\n",
            "dense (Dense)                (None, 512)               1573376   \n",
            "_________________________________________________________________\n",
            "dense_1 (Dense)              (None, 512)               262656    \n",
            "_________________________________________________________________\n",
            "dense_2 (Dense)              (None, 1024)              525312    \n",
            "_________________________________________________________________\n",
            "dense_3 (Dense)              (None, 10)                10250     \n",
            "=================================================================\n",
            "Total params: 2,371,594\n",
            "Trainable params: 2,371,594\n",
            "Non-trainable params: 0\n",
            "_________________________________________________________________\n"
          ],
          "name": "stdout"
        }
      ]
    },
    {
      "cell_type": "code",
      "metadata": {
        "colab": {
          "base_uri": "https://localhost:8080/"
        },
        "id": "8y_Ay9m4Al_o",
        "outputId": "bc966278-d089-4196-8138-3140d027762b"
      },
      "source": [
        "model.fit(x_train, y_train_cat, batch_size=128, epochs=30, validation_data=(x_test,y_test_cat))"
      ],
      "execution_count": null,
      "outputs": [
        {
          "output_type": "stream",
          "text": [
            "Epoch 1/30\n",
            "391/391 [==============================] - 5s 10ms/step - loss: 2.0832 - accuracy: 0.3484 - val_loss: 2.2214 - val_accuracy: 0.2637\n",
            "Epoch 2/30\n",
            "391/391 [==============================] - 3s 8ms/step - loss: 1.6778 - accuracy: 0.4715 - val_loss: 2.0709 - val_accuracy: 0.3397\n",
            "Epoch 3/30\n",
            "391/391 [==============================] - 3s 8ms/step - loss: 1.5618 - accuracy: 0.5088 - val_loss: 2.1832 - val_accuracy: 0.3396\n",
            "Epoch 4/30\n",
            "391/391 [==============================] - 3s 8ms/step - loss: 1.4453 - accuracy: 0.5458 - val_loss: 2.0903 - val_accuracy: 0.3276\n",
            "Epoch 5/30\n",
            "391/391 [==============================] - 3s 8ms/step - loss: 1.3773 - accuracy: 0.5641 - val_loss: 1.7034 - val_accuracy: 0.4548\n",
            "Epoch 6/30\n",
            "391/391 [==============================] - 3s 8ms/step - loss: 1.2967 - accuracy: 0.5948 - val_loss: 1.6786 - val_accuracy: 0.4614\n",
            "Epoch 7/30\n",
            "391/391 [==============================] - 3s 8ms/step - loss: 1.2443 - accuracy: 0.6148 - val_loss: 1.6238 - val_accuracy: 0.4806\n",
            "Epoch 8/30\n",
            "391/391 [==============================] - 3s 8ms/step - loss: 1.1943 - accuracy: 0.6331 - val_loss: 1.6683 - val_accuracy: 0.4739\n",
            "Epoch 9/30\n",
            "391/391 [==============================] - 3s 8ms/step - loss: 1.1351 - accuracy: 0.6555 - val_loss: 1.6720 - val_accuracy: 0.4764\n",
            "Epoch 10/30\n",
            "391/391 [==============================] - 3s 8ms/step - loss: 1.0949 - accuracy: 0.6720 - val_loss: 1.9274 - val_accuracy: 0.4271\n",
            "Epoch 11/30\n",
            "391/391 [==============================] - 3s 8ms/step - loss: 1.0443 - accuracy: 0.6942 - val_loss: 1.7625 - val_accuracy: 0.4669\n",
            "Epoch 12/30\n",
            "391/391 [==============================] - 3s 8ms/step - loss: 0.9810 - accuracy: 0.7220 - val_loss: 1.8548 - val_accuracy: 0.4612\n",
            "Epoch 13/30\n",
            "391/391 [==============================] - 3s 8ms/step - loss: 0.9363 - accuracy: 0.7454 - val_loss: 2.0071 - val_accuracy: 0.4381\n",
            "Epoch 14/30\n",
            "391/391 [==============================] - 3s 8ms/step - loss: 0.8892 - accuracy: 0.7654 - val_loss: 2.0347 - val_accuracy: 0.4542\n",
            "Epoch 15/30\n",
            "391/391 [==============================] - 3s 8ms/step - loss: 0.8442 - accuracy: 0.7832 - val_loss: 2.1196 - val_accuracy: 0.4632\n",
            "Epoch 16/30\n",
            "391/391 [==============================] - 3s 8ms/step - loss: 0.7949 - accuracy: 0.8069 - val_loss: 2.0960 - val_accuracy: 0.4892\n",
            "Epoch 17/30\n",
            "391/391 [==============================] - 3s 8ms/step - loss: 0.7552 - accuracy: 0.8260 - val_loss: 2.2641 - val_accuracy: 0.4680\n",
            "Epoch 18/30\n",
            "391/391 [==============================] - 3s 8ms/step - loss: 0.7332 - accuracy: 0.8380 - val_loss: 2.1039 - val_accuracy: 0.5072\n",
            "Epoch 19/30\n",
            "391/391 [==============================] - 3s 8ms/step - loss: 0.6940 - accuracy: 0.8549 - val_loss: 2.2841 - val_accuracy: 0.4922\n",
            "Epoch 20/30\n",
            "391/391 [==============================] - 3s 8ms/step - loss: 0.6642 - accuracy: 0.8703 - val_loss: 2.4411 - val_accuracy: 0.4732\n",
            "Epoch 21/30\n",
            "391/391 [==============================] - 3s 8ms/step - loss: 0.6422 - accuracy: 0.8800 - val_loss: 2.9325 - val_accuracy: 0.4183\n",
            "Epoch 22/30\n",
            "391/391 [==============================] - 3s 8ms/step - loss: 0.6380 - accuracy: 0.8837 - val_loss: 2.5151 - val_accuracy: 0.4840\n",
            "Epoch 23/30\n",
            "391/391 [==============================] - 3s 8ms/step - loss: 0.6204 - accuracy: 0.8939 - val_loss: 2.4739 - val_accuracy: 0.4858\n",
            "Epoch 24/30\n",
            "391/391 [==============================] - 3s 8ms/step - loss: 0.6033 - accuracy: 0.9004 - val_loss: 2.5118 - val_accuracy: 0.4907\n",
            "Epoch 25/30\n",
            "391/391 [==============================] - 3s 8ms/step - loss: 0.5964 - accuracy: 0.9051 - val_loss: 2.6190 - val_accuracy: 0.4845\n",
            "Epoch 26/30\n",
            "391/391 [==============================] - 3s 8ms/step - loss: 0.6041 - accuracy: 0.9046 - val_loss: 2.6899 - val_accuracy: 0.4901\n",
            "Epoch 27/30\n",
            "391/391 [==============================] - 3s 8ms/step - loss: 0.5907 - accuracy: 0.9116 - val_loss: 2.8860 - val_accuracy: 0.4711\n",
            "Epoch 28/30\n",
            "391/391 [==============================] - 3s 8ms/step - loss: 0.5921 - accuracy: 0.9118 - val_loss: 3.0186 - val_accuracy: 0.4529\n",
            "Epoch 29/30\n",
            "391/391 [==============================] - 3s 8ms/step - loss: 0.5855 - accuracy: 0.9159 - val_loss: 2.7825 - val_accuracy: 0.4795\n",
            "Epoch 30/30\n",
            "391/391 [==============================] - 3s 8ms/step - loss: 0.5692 - accuracy: 0.9237 - val_loss: 2.8460 - val_accuracy: 0.4890\n"
          ],
          "name": "stdout"
        },
        {
          "output_type": "execute_result",
          "data": {
            "text/plain": [
              "<tensorflow.python.keras.callbacks.History at 0x7fd8c8f85cd0>"
            ]
          },
          "metadata": {
            "tags": []
          },
          "execution_count": 14
        }
      ]
    },
    {
      "cell_type": "markdown",
      "metadata": {
        "id": "EN9ynv3CB3xx"
      },
      "source": [
        "# CNN"
      ]
    },
    {
      "cell_type": "code",
      "metadata": {
        "id": "rCxVc5po8Y-J"
      },
      "source": [
        "(x_train, y_train), (x_test, y_test) = cifar10.load_data()"
      ],
      "execution_count": null,
      "outputs": []
    },
    {
      "cell_type": "code",
      "metadata": {
        "id": "xAZPyce6CfEl"
      },
      "source": [
        "from keras.utils import to_categorical\n",
        "from keras.layers import Dense, Activation, Flatten, Dropout, BatchNormalization\n",
        "from keras import regularizers, optimizers\n",
        "y_train_cat = to_categorical(y_train, num_classes=10)\n",
        "y_test_cat = to_categorical(y_test, num_classes=10)"
      ],
      "execution_count": null,
      "outputs": []
    },
    {
      "cell_type": "code",
      "metadata": {
        "colab": {
          "base_uri": "https://localhost:8080/"
        },
        "id": "8CL9lgvzCtWt",
        "outputId": "8349a6af-e7d9-45f4-966e-4946f9da4df4"
      },
      "source": [
        "x_train.shape"
      ],
      "execution_count": null,
      "outputs": [
        {
          "output_type": "execute_result",
          "data": {
            "text/plain": [
              "(50000, 32, 32, 3)"
            ]
          },
          "metadata": {
            "tags": []
          },
          "execution_count": 7
        }
      ]
    },
    {
      "cell_type": "code",
      "metadata": {
        "colab": {
          "base_uri": "https://localhost:8080/"
        },
        "id": "6dcGObNqDO12",
        "outputId": "4d19e2ef-1d2c-473d-8182-d619d1d11e89"
      },
      "source": [
        "x_train[0].shape"
      ],
      "execution_count": null,
      "outputs": [
        {
          "output_type": "execute_result",
          "data": {
            "text/plain": [
              "(32, 32, 3)"
            ]
          },
          "metadata": {
            "tags": []
          },
          "execution_count": 7
        }
      ]
    },
    {
      "cell_type": "code",
      "metadata": {
        "id": "NVpkwZ2pCrcs"
      },
      "source": [
        "x_train = x_train.reshape(-1, 32, 32, 3)/255.\n",
        "x_test = x_test.reshape(-1, 32, 32, 3)/255."
      ],
      "execution_count": null,
      "outputs": []
    },
    {
      "cell_type": "code",
      "metadata": {
        "id": "5KEVxK44DYxi"
      },
      "source": [
        "from tensorflow.keras.layers import Dense, Conv2D, MaxPool2D, Flatten"
      ],
      "execution_count": null,
      "outputs": []
    },
    {
      "cell_type": "code",
      "metadata": {
        "id": "6eS2zJiVDoEH"
      },
      "source": [
        "model = Sequential()\n",
        "model.add(Conv2D(filters=32, kernel_size=(3,3), activation='relu', padding='same', input_shape=x_train[0].shape))\n",
        "model.add(Conv2D(filters=32, kernel_size=(3,3), activation='relu', padding='same'))\n",
        "model.add(Conv2D(filters=32, kernel_size=(3,3), activation='relu', padding='same'))\n",
        "model.add(MaxPool2D(pool_size=(2,2)))\n",
        "model.add(Flatten())\n",
        "model.add(Dense(64, activation='relu'))\n",
        "model.add(Dense(32, activation='relu'))\n",
        "model.add(Dense(10, activation='softmax'))\n"
      ],
      "execution_count": null,
      "outputs": []
    },
    {
      "cell_type": "code",
      "metadata": {
        "colab": {
          "base_uri": "https://localhost:8080/"
        },
        "id": "PkAH9DJ-GHLu",
        "outputId": "6b4d2070-16a3-4d77-af99-0af86416ba45"
      },
      "source": [
        "model.compile(loss='categorical_crossentropy', optimizer='adam', metrics=['accuracy'])\n",
        "model.summary()"
      ],
      "execution_count": null,
      "outputs": [
        {
          "output_type": "stream",
          "text": [
            "Model: \"sequential\"\n",
            "_________________________________________________________________\n",
            "Layer (type)                 Output Shape              Param #   \n",
            "=================================================================\n",
            "conv2d (Conv2D)              (None, 32, 32, 32)        896       \n",
            "_________________________________________________________________\n",
            "conv2d_1 (Conv2D)            (None, 32, 32, 32)        9248      \n",
            "_________________________________________________________________\n",
            "conv2d_2 (Conv2D)            (None, 32, 32, 32)        9248      \n",
            "_________________________________________________________________\n",
            "max_pooling2d (MaxPooling2D) (None, 16, 16, 32)        0         \n",
            "_________________________________________________________________\n",
            "flatten (Flatten)            (None, 8192)              0         \n",
            "_________________________________________________________________\n",
            "dense (Dense)                (None, 64)                524352    \n",
            "_________________________________________________________________\n",
            "dense_1 (Dense)              (None, 32)                2080      \n",
            "_________________________________________________________________\n",
            "dense_2 (Dense)              (None, 10)                330       \n",
            "=================================================================\n",
            "Total params: 546,154\n",
            "Trainable params: 546,154\n",
            "Non-trainable params: 0\n",
            "_________________________________________________________________\n"
          ],
          "name": "stdout"
        }
      ]
    },
    {
      "cell_type": "code",
      "metadata": {
        "colab": {
          "base_uri": "https://localhost:8080/"
        },
        "id": "kW0i5_2-GLNp",
        "outputId": "b1b63eab-6c94-44eb-cd73-799d78c5b11e"
      },
      "source": [
        "model.fit(x_train, y_train_cat, batch_size=128, epochs=30, validation_data=(x_test,y_test_cat))"
      ],
      "execution_count": null,
      "outputs": [
        {
          "output_type": "stream",
          "text": [
            "Epoch 1/30\n",
            "391/391 [==============================] - 12s 25ms/step - loss: 2.6401 - accuracy: 0.2522 - val_loss: 1.4386 - val_accuracy: 0.4869\n",
            "Epoch 2/30\n",
            "391/391 [==============================] - 9s 23ms/step - loss: 1.3133 - accuracy: 0.5325 - val_loss: 1.2437 - val_accuracy: 0.5678\n",
            "Epoch 3/30\n",
            "391/391 [==============================] - 9s 23ms/step - loss: 1.0521 - accuracy: 0.6309 - val_loss: 1.1073 - val_accuracy: 0.6176\n",
            "Epoch 4/30\n",
            "391/391 [==============================] - 9s 23ms/step - loss: 0.8735 - accuracy: 0.6896 - val_loss: 1.1049 - val_accuracy: 0.6274\n",
            "Epoch 5/30\n",
            "391/391 [==============================] - 9s 23ms/step - loss: 0.7239 - accuracy: 0.7479 - val_loss: 1.1827 - val_accuracy: 0.6139\n",
            "Epoch 6/30\n",
            "391/391 [==============================] - 9s 23ms/step - loss: 0.6407 - accuracy: 0.7747 - val_loss: 1.1383 - val_accuracy: 0.6306\n",
            "Epoch 7/30\n",
            "391/391 [==============================] - 9s 23ms/step - loss: 0.5310 - accuracy: 0.8160 - val_loss: 1.2037 - val_accuracy: 0.6451\n",
            "Epoch 8/30\n",
            "391/391 [==============================] - 9s 23ms/step - loss: 0.4667 - accuracy: 0.8365 - val_loss: 1.2771 - val_accuracy: 0.6319\n",
            "Epoch 9/30\n",
            "391/391 [==============================] - 9s 23ms/step - loss: 0.3945 - accuracy: 0.8649 - val_loss: 1.3770 - val_accuracy: 0.6255\n",
            "Epoch 10/30\n",
            "391/391 [==============================] - 9s 23ms/step - loss: 0.3334 - accuracy: 0.8845 - val_loss: 1.4565 - val_accuracy: 0.6206\n",
            "Epoch 11/30\n",
            "391/391 [==============================] - 9s 23ms/step - loss: 0.2939 - accuracy: 0.8961 - val_loss: 1.6217 - val_accuracy: 0.6258\n",
            "Epoch 12/30\n",
            "391/391 [==============================] - 9s 23ms/step - loss: 0.2606 - accuracy: 0.9097 - val_loss: 1.7256 - val_accuracy: 0.6332\n",
            "Epoch 13/30\n",
            "391/391 [==============================] - 9s 23ms/step - loss: 0.2359 - accuracy: 0.9183 - val_loss: 1.8677 - val_accuracy: 0.6163\n",
            "Epoch 14/30\n",
            "391/391 [==============================] - 9s 23ms/step - loss: 0.2170 - accuracy: 0.9244 - val_loss: 1.9105 - val_accuracy: 0.6084\n",
            "Epoch 15/30\n",
            "391/391 [==============================] - 9s 23ms/step - loss: 0.2069 - accuracy: 0.9276 - val_loss: 2.1702 - val_accuracy: 0.6279\n",
            "Epoch 16/30\n",
            "391/391 [==============================] - 9s 23ms/step - loss: 0.1697 - accuracy: 0.9407 - val_loss: 2.2370 - val_accuracy: 0.6137\n",
            "Epoch 17/30\n",
            "391/391 [==============================] - 9s 23ms/step - loss: 0.1801 - accuracy: 0.9357 - val_loss: 2.2170 - val_accuracy: 0.6247\n",
            "Epoch 18/30\n",
            "391/391 [==============================] - 9s 23ms/step - loss: 0.1506 - accuracy: 0.9474 - val_loss: 2.4893 - val_accuracy: 0.6073\n",
            "Epoch 19/30\n",
            "391/391 [==============================] - 9s 23ms/step - loss: 0.1546 - accuracy: 0.9477 - val_loss: 2.4676 - val_accuracy: 0.6191\n",
            "Epoch 20/30\n",
            "391/391 [==============================] - 9s 23ms/step - loss: 0.1471 - accuracy: 0.9479 - val_loss: 2.6470 - val_accuracy: 0.6095\n",
            "Epoch 21/30\n",
            "391/391 [==============================] - 9s 23ms/step - loss: 0.1315 - accuracy: 0.9548 - val_loss: 2.8017 - val_accuracy: 0.6098\n",
            "Epoch 22/30\n",
            "391/391 [==============================] - 9s 23ms/step - loss: 0.1344 - accuracy: 0.9542 - val_loss: 2.8970 - val_accuracy: 0.6213\n",
            "Epoch 23/30\n",
            "391/391 [==============================] - 9s 23ms/step - loss: 0.1238 - accuracy: 0.9581 - val_loss: 2.9601 - val_accuracy: 0.6147\n",
            "Epoch 24/30\n",
            "391/391 [==============================] - 9s 23ms/step - loss: 0.1219 - accuracy: 0.9595 - val_loss: 3.0285 - val_accuracy: 0.6173\n",
            "Epoch 25/30\n",
            "391/391 [==============================] - 9s 23ms/step - loss: 0.1132 - accuracy: 0.9621 - val_loss: 3.0381 - val_accuracy: 0.6187\n",
            "Epoch 26/30\n",
            "391/391 [==============================] - 9s 23ms/step - loss: 0.1159 - accuracy: 0.9614 - val_loss: 3.1805 - val_accuracy: 0.6047\n",
            "Epoch 27/30\n",
            "391/391 [==============================] - 9s 23ms/step - loss: 0.1254 - accuracy: 0.9578 - val_loss: 3.1101 - val_accuracy: 0.6148\n",
            "Epoch 28/30\n",
            "391/391 [==============================] - 9s 23ms/step - loss: 0.1064 - accuracy: 0.9646 - val_loss: 3.1854 - val_accuracy: 0.6206\n",
            "Epoch 29/30\n",
            "391/391 [==============================] - 9s 23ms/step - loss: 0.1093 - accuracy: 0.9639 - val_loss: 3.3297 - val_accuracy: 0.6133\n",
            "Epoch 30/30\n",
            "391/391 [==============================] - 9s 23ms/step - loss: 0.1077 - accuracy: 0.9635 - val_loss: 3.3993 - val_accuracy: 0.6229\n"
          ],
          "name": "stdout"
        },
        {
          "output_type": "execute_result",
          "data": {
            "text/plain": [
              "<tensorflow.python.keras.callbacks.History at 0x7fc03a4f4b90>"
            ]
          },
          "metadata": {
            "tags": []
          },
          "execution_count": 11
        }
      ]
    },
    {
      "cell_type": "markdown",
      "metadata": {
        "id": "jkhf-nZ4KSma"
      },
      "source": [
        ""
      ]
    },
    {
      "cell_type": "markdown",
      "metadata": {
        "id": "anTC_IGBFyyv"
      },
      "source": [
        "\n",
        "# CNN WITH HIGHER ACCURACY\n",
        "**CNN+Dropout+Kernel_regularizer+BatchNormalization**"
      ]
    },
    {
      "cell_type": "code",
      "metadata": {
        "id": "QowJlozsFm5Y"
      },
      "source": [
        "import tensorflow as tf\n",
        "from tensorflow.keras.datasets import cifar10\n",
        "from tensorflow.keras.models import Sequential\n",
        "from keras.utils import to_categorical\n",
        "from keras.layers import Dense,Conv2D, Activation, Flatten, Dropout, BatchNormalization,MaxPool2D,Input\n",
        "from keras import regularizers, optimizers\n",
        "#CIFAR10\n",
        "(x_train, y_train), (x_test, y_test) =cifar10.load_data()\n",
        "from tensorflow.keras.utils import to_categorical\n"
      ],
      "execution_count": null,
      "outputs": []
    },
    {
      "cell_type": "code",
      "metadata": {
        "id": "OVJf_fm1FyLP"
      },
      "source": [
        "x_train = x_train.reshape(-1, 32, 32, 3)/255.\n",
        "x_test = x_test.reshape(-1, 32, 32, 3)/255."
      ],
      "execution_count": null,
      "outputs": []
    },
    {
      "cell_type": "code",
      "metadata": {
        "id": "hhXsnSJDBUD5"
      },
      "source": [
        "y_train_cat = to_categorical(y_train, num_classes=10)\n",
        "y_test_cat = to_categorical(y_test, num_classes=10)"
      ],
      "execution_count": null,
      "outputs": []
    },
    {
      "cell_type": "code",
      "metadata": {
        "id": "xFWiQBgUALfD"
      },
      "source": [
        "weight_decay = 1e-4\n",
        "model = Sequential()\n",
        "model.add(Conv2D(32, (3,3),activation='relu', padding='same', kernel_regularizer=regularizers.l2(weight_decay), input_shape=x_train[0].shape))\n",
        "model.add(BatchNormalization())\n",
        "model.add(Conv2D(32, (3,3),activation='relu', padding='same', kernel_regularizer=regularizers.l2(weight_decay)))\n",
        "model.add(BatchNormalization())\n",
        "model.add(MaxPool2D(pool_size=(2,2)))\n",
        "model.add(Dropout(0.2))\n",
        " \n",
        "model.add(Conv2D(64, (3,3),activation='relu', padding='same', kernel_regularizer=regularizers.l2(weight_decay)))\n",
        "model.add(BatchNormalization())\n",
        "model.add(Conv2D(64, (3,3),activation='relu', padding='same', kernel_regularizer=regularizers.l2(weight_decay)))\n",
        "model.add(BatchNormalization())\n",
        "model.add(MaxPool2D(pool_size=(2,2)))\n",
        "model.add(Dropout(0.3))\n",
        " \n",
        "model.add(Conv2D(128, (3,3),activation='relu', padding='same', kernel_regularizer=regularizers.l2(weight_decay)))\n",
        "model.add(BatchNormalization())\n",
        "model.add(Conv2D(128, (3,3),activation='relu', padding='same', kernel_regularizer=regularizers.l2(weight_decay)))\n",
        "model.add(BatchNormalization())\n",
        "model.add(MaxPool2D(pool_size=(2,2)))\n",
        "model.add(Dropout(0.4))\n",
        " \n",
        "model.add(Flatten())\n",
        "model.add(Dense(64, activation='relu'))\n",
        "model.add(Dense(32, activation='relu'))\n",
        "model.add(Dense(10, activation='softmax'))"
      ],
      "execution_count": null,
      "outputs": []
    },
    {
      "cell_type": "code",
      "metadata": {
        "colab": {
          "base_uri": "https://localhost:8080/"
        },
        "id": "gegYgiAAE0f8",
        "outputId": "cef178b3-ce7c-46fd-d645-343ffe398dd1"
      },
      "source": [
        "model.compile(loss='categorical_crossentropy', optimizer='adam', metrics=['accuracy'])\n",
        "model.summary()"
      ],
      "execution_count": null,
      "outputs": [
        {
          "output_type": "stream",
          "text": [
            "Model: \"sequential_1\"\n",
            "_________________________________________________________________\n",
            "Layer (type)                 Output Shape              Param #   \n",
            "=================================================================\n",
            "conv2d (Conv2D)              (None, 32, 32, 32)        896       \n",
            "_________________________________________________________________\n",
            "batch_normalization (BatchNo (None, 32, 32, 32)        128       \n",
            "_________________________________________________________________\n",
            "conv2d_1 (Conv2D)            (None, 32, 32, 32)        9248      \n",
            "_________________________________________________________________\n",
            "batch_normalization_1 (Batch (None, 32, 32, 32)        128       \n",
            "_________________________________________________________________\n",
            "max_pooling2d (MaxPooling2D) (None, 16, 16, 32)        0         \n",
            "_________________________________________________________________\n",
            "dropout (Dropout)            (None, 16, 16, 32)        0         \n",
            "_________________________________________________________________\n",
            "conv2d_2 (Conv2D)            (None, 16, 16, 64)        18496     \n",
            "_________________________________________________________________\n",
            "batch_normalization_2 (Batch (None, 16, 16, 64)        256       \n",
            "_________________________________________________________________\n",
            "conv2d_3 (Conv2D)            (None, 16, 16, 64)        36928     \n",
            "_________________________________________________________________\n",
            "batch_normalization_3 (Batch (None, 16, 16, 64)        256       \n",
            "_________________________________________________________________\n",
            "max_pooling2d_1 (MaxPooling2 (None, 8, 8, 64)          0         \n",
            "_________________________________________________________________\n",
            "dropout_1 (Dropout)          (None, 8, 8, 64)          0         \n",
            "_________________________________________________________________\n",
            "conv2d_4 (Conv2D)            (None, 8, 8, 128)         73856     \n",
            "_________________________________________________________________\n",
            "batch_normalization_4 (Batch (None, 8, 8, 128)         512       \n",
            "_________________________________________________________________\n",
            "conv2d_5 (Conv2D)            (None, 8, 8, 128)         147584    \n",
            "_________________________________________________________________\n",
            "batch_normalization_5 (Batch (None, 8, 8, 128)         512       \n",
            "_________________________________________________________________\n",
            "max_pooling2d_2 (MaxPooling2 (None, 4, 4, 128)         0         \n",
            "_________________________________________________________________\n",
            "dropout_2 (Dropout)          (None, 4, 4, 128)         0         \n",
            "_________________________________________________________________\n",
            "flatten (Flatten)            (None, 2048)              0         \n",
            "_________________________________________________________________\n",
            "dense (Dense)                (None, 64)                131136    \n",
            "_________________________________________________________________\n",
            "dense_1 (Dense)              (None, 32)                2080      \n",
            "_________________________________________________________________\n",
            "dense_2 (Dense)              (None, 10)                330       \n",
            "=================================================================\n",
            "Total params: 422,346\n",
            "Trainable params: 421,450\n",
            "Non-trainable params: 896\n",
            "_________________________________________________________________\n"
          ],
          "name": "stdout"
        }
      ]
    },
    {
      "cell_type": "code",
      "metadata": {
        "colab": {
          "base_uri": "https://localhost:8080/"
        },
        "id": "bnrXgOIzGdxh",
        "outputId": "cd258f05-163d-4208-a51e-e60637abee0e"
      },
      "source": [
        "model.fit(x_train, y_train_cat, batch_size=64, epochs=20, validation_data=(x_test,y_test_cat))"
      ],
      "execution_count": null,
      "outputs": [
        {
          "output_type": "stream",
          "text": [
            "Epoch 1/20\n",
            "782/782 [==============================] - 39s 10ms/step - loss: 1.7266 - accuracy: 0.3966 - val_loss: 1.1973 - val_accuracy: 0.5871\n",
            "Epoch 2/20\n",
            "782/782 [==============================] - 7s 10ms/step - loss: 1.0491 - accuracy: 0.6425 - val_loss: 0.8541 - val_accuracy: 0.7212\n",
            "Epoch 3/20\n",
            "782/782 [==============================] - 8s 10ms/step - loss: 0.8648 - accuracy: 0.7146 - val_loss: 0.9565 - val_accuracy: 0.6902\n",
            "Epoch 4/20\n",
            "782/782 [==============================] - 8s 10ms/step - loss: 0.7716 - accuracy: 0.7519 - val_loss: 0.7760 - val_accuracy: 0.7561\n",
            "Epoch 5/20\n",
            "782/782 [==============================] - 7s 10ms/step - loss: 0.7083 - accuracy: 0.7783 - val_loss: 0.7420 - val_accuracy: 0.7706\n",
            "Epoch 6/20\n",
            "782/782 [==============================] - 8s 10ms/step - loss: 0.6588 - accuracy: 0.7988 - val_loss: 0.7840 - val_accuracy: 0.7592\n",
            "Epoch 7/20\n",
            "782/782 [==============================] - 8s 10ms/step - loss: 0.6253 - accuracy: 0.8127 - val_loss: 0.6666 - val_accuracy: 0.8087\n",
            "Epoch 8/20\n",
            "782/782 [==============================] - 8s 10ms/step - loss: 0.5934 - accuracy: 0.8285 - val_loss: 0.6822 - val_accuracy: 0.8069\n",
            "Epoch 9/20\n",
            "782/782 [==============================] - 8s 10ms/step - loss: 0.5723 - accuracy: 0.8390 - val_loss: 0.7888 - val_accuracy: 0.7833\n",
            "Epoch 10/20\n",
            "782/782 [==============================] - 8s 10ms/step - loss: 0.5529 - accuracy: 0.8487 - val_loss: 0.6828 - val_accuracy: 0.8142\n",
            "Epoch 11/20\n",
            "782/782 [==============================] - 8s 10ms/step - loss: 0.5525 - accuracy: 0.8524 - val_loss: 0.6592 - val_accuracy: 0.8236\n",
            "Epoch 12/20\n",
            "782/782 [==============================] - 7s 10ms/step - loss: 0.5368 - accuracy: 0.8595 - val_loss: 0.6713 - val_accuracy: 0.8253\n",
            "Epoch 13/20\n",
            "782/782 [==============================] - 8s 10ms/step - loss: 0.5157 - accuracy: 0.8672 - val_loss: 0.7006 - val_accuracy: 0.8210\n",
            "Epoch 14/20\n",
            "782/782 [==============================] - 8s 10ms/step - loss: 0.5240 - accuracy: 0.8687 - val_loss: 0.6819 - val_accuracy: 0.8291\n",
            "Epoch 15/20\n",
            "782/782 [==============================] - 8s 10ms/step - loss: 0.5058 - accuracy: 0.8764 - val_loss: 0.6890 - val_accuracy: 0.8284\n",
            "Epoch 16/20\n",
            "782/782 [==============================] - 8s 10ms/step - loss: 0.4931 - accuracy: 0.8827 - val_loss: 0.8180 - val_accuracy: 0.7918\n",
            "Epoch 17/20\n",
            "782/782 [==============================] - 8s 10ms/step - loss: 0.4829 - accuracy: 0.8871 - val_loss: 0.6510 - val_accuracy: 0.8433\n",
            "Epoch 18/20\n",
            "782/782 [==============================] - 8s 10ms/step - loss: 0.4893 - accuracy: 0.8885 - val_loss: 0.7648 - val_accuracy: 0.8054\n",
            "Epoch 19/20\n",
            "782/782 [==============================] - 8s 10ms/step - loss: 0.4815 - accuracy: 0.8893 - val_loss: 0.6900 - val_accuracy: 0.8352\n",
            "Epoch 20/20\n",
            "782/782 [==============================] - 8s 10ms/step - loss: 0.4686 - accuracy: 0.8958 - val_loss: 0.6705 - val_accuracy: 0.8399\n"
          ],
          "name": "stdout"
        },
        {
          "output_type": "execute_result",
          "data": {
            "text/plain": [
              "<tensorflow.python.keras.callbacks.History at 0x7fdea226df10>"
            ]
          },
          "metadata": {
            "tags": []
          },
          "execution_count": 12
        }
      ]
    },
    {
      "cell_type": "markdown",
      "metadata": {
        "id": "ZZCh2KiELkGO"
      },
      "source": [
        "# ACCURACY>84"
      ]
    },
    {
      "cell_type": "markdown",
      "metadata": {
        "id": "3ED_eQNw46FM"
      },
      "source": [
        "# ANN WITH HIGHER ACCURACY\n",
        "# Mitavan ba data augmentation amalkard ra behtar kard"
      ]
    },
    {
      "cell_type": "code",
      "metadata": {
        "id": "Df_2fBgv5dwv"
      },
      "source": [
        "model = Sequential()\n",
        "model.add(Input(shape=(32*32*3)))\n",
        "model.add(Dense(256, activation='relu'))\n",
        "model.add(Dense(512, activation='relu',))\n",
        "model.add(Dense(512, activation='relu',))\n",
        "model.add(Dense(1024, activation='relu'))\n",
        "model.add(Dense(10, activation='softmax'))\n"
      ],
      "execution_count": null,
      "outputs": []
    },
    {
      "cell_type": "code",
      "metadata": {
        "colab": {
          "base_uri": "https://localhost:8080/"
        },
        "id": "gQZGc8V_5qaq",
        "outputId": "93df1e30-2a78-46a0-ad1a-4342106c23a0"
      },
      "source": [
        "model.compile(loss='categorical_crossentropy', optimizer='adam', metrics=['accuracy'])\n",
        "model.summary()"
      ],
      "execution_count": null,
      "outputs": [
        {
          "output_type": "stream",
          "text": [
            "Model: \"sequential_2\"\n",
            "_________________________________________________________________\n",
            "Layer (type)                 Output Shape              Param #   \n",
            "=================================================================\n",
            "dense_3 (Dense)              (None, 256)               786688    \n",
            "_________________________________________________________________\n",
            "dense_4 (Dense)              (None, 512)               131584    \n",
            "_________________________________________________________________\n",
            "dense_5 (Dense)              (None, 512)               262656    \n",
            "_________________________________________________________________\n",
            "dense_6 (Dense)              (None, 1024)              525312    \n",
            "_________________________________________________________________\n",
            "dense_7 (Dense)              (None, 10)                10250     \n",
            "=================================================================\n",
            "Total params: 1,716,490\n",
            "Trainable params: 1,716,490\n",
            "Non-trainable params: 0\n",
            "_________________________________________________________________\n"
          ],
          "name": "stdout"
        }
      ]
    },
    {
      "cell_type": "code",
      "metadata": {
        "colab": {
          "base_uri": "https://localhost:8080/",
          "height": 1000
        },
        "id": "LH60wke551Qh",
        "outputId": "e24b9316-8dd0-425d-c124-aca87cdb568a"
      },
      "source": [
        "model.fit(x_train, y_train_cat, batch_size=64, epochs=30, validation_data=(x_test,y_test_cat))"
      ],
      "execution_count": null,
      "outputs": [
        {
          "output_type": "stream",
          "text": [
            "Epoch 1/30\n",
            "782/782 [==============================] - 6s 4ms/step - loss: 1.9721 - accuracy: 0.2706 - val_loss: 1.7015 - val_accuracy: 0.3921\n",
            "Epoch 2/30\n",
            "782/782 [==============================] - 3s 4ms/step - loss: 1.7066 - accuracy: 0.3845 - val_loss: 1.6192 - val_accuracy: 0.4152\n",
            "Epoch 3/30\n",
            "782/782 [==============================] - 3s 4ms/step - loss: 1.6171 - accuracy: 0.4130 - val_loss: 1.6068 - val_accuracy: 0.4288\n",
            "Epoch 4/30\n",
            "782/782 [==============================] - 3s 4ms/step - loss: 1.5478 - accuracy: 0.4397 - val_loss: 1.5716 - val_accuracy: 0.4340\n",
            "Epoch 5/30\n",
            "782/782 [==============================] - 3s 4ms/step - loss: 1.4990 - accuracy: 0.4629 - val_loss: 1.5480 - val_accuracy: 0.4530\n",
            "Epoch 6/30\n",
            "782/782 [==============================] - 3s 4ms/step - loss: 1.4466 - accuracy: 0.4775 - val_loss: 1.5112 - val_accuracy: 0.4657\n",
            "Epoch 7/30\n",
            "782/782 [==============================] - 3s 4ms/step - loss: 1.4116 - accuracy: 0.4923 - val_loss: 1.5164 - val_accuracy: 0.4588\n",
            "Epoch 8/30\n",
            "782/782 [==============================] - 3s 4ms/step - loss: 1.3846 - accuracy: 0.5024 - val_loss: 1.4640 - val_accuracy: 0.4776\n",
            "Epoch 9/30\n",
            "782/782 [==============================] - 3s 4ms/step - loss: 1.3448 - accuracy: 0.5148 - val_loss: 1.4759 - val_accuracy: 0.4839\n",
            "Epoch 10/30\n",
            "782/782 [==============================] - 3s 4ms/step - loss: 1.2980 - accuracy: 0.5301 - val_loss: 1.4945 - val_accuracy: 0.4769\n",
            "Epoch 11/30\n",
            "782/782 [==============================] - 3s 4ms/step - loss: 1.2732 - accuracy: 0.5435 - val_loss: 1.4574 - val_accuracy: 0.4910\n",
            "Epoch 12/30\n",
            "782/782 [==============================] - 3s 4ms/step - loss: 1.2154 - accuracy: 0.5598 - val_loss: 1.4420 - val_accuracy: 0.4952\n",
            "Epoch 13/30\n",
            "782/782 [==============================] - 3s 4ms/step - loss: 1.1946 - accuracy: 0.5662 - val_loss: 1.5154 - val_accuracy: 0.4791\n",
            "Epoch 14/30\n",
            "782/782 [==============================] - 3s 4ms/step - loss: 1.1542 - accuracy: 0.5830 - val_loss: 1.5277 - val_accuracy: 0.4867\n",
            "Epoch 15/30\n",
            "782/782 [==============================] - 3s 4ms/step - loss: 1.1077 - accuracy: 0.5937 - val_loss: 1.5463 - val_accuracy: 0.4836\n",
            "Epoch 16/30\n",
            "782/782 [==============================] - 3s 4ms/step - loss: 1.0548 - accuracy: 0.6140 - val_loss: 1.5485 - val_accuracy: 0.4981\n",
            "Epoch 17/30\n",
            "782/782 [==============================] - 3s 4ms/step - loss: 1.0030 - accuracy: 0.6308 - val_loss: 1.5970 - val_accuracy: 0.4859\n",
            "Epoch 18/30\n",
            "782/782 [==============================] - 3s 4ms/step - loss: 0.9633 - accuracy: 0.6493 - val_loss: 1.7019 - val_accuracy: 0.4802\n",
            "Epoch 19/30\n",
            "782/782 [==============================] - 3s 4ms/step - loss: 0.8954 - accuracy: 0.6698 - val_loss: 1.7050 - val_accuracy: 0.4803\n",
            "Epoch 20/30\n",
            "782/782 [==============================] - 3s 4ms/step - loss: 0.8520 - accuracy: 0.6844 - val_loss: 1.7297 - val_accuracy: 0.4808\n",
            "Epoch 21/30\n",
            "782/782 [==============================] - 3s 4ms/step - loss: 0.8006 - accuracy: 0.7047 - val_loss: 1.8378 - val_accuracy: 0.4836\n",
            "Epoch 22/30\n",
            "782/782 [==============================] - 3s 4ms/step - loss: 0.7506 - accuracy: 0.7237 - val_loss: 1.9228 - val_accuracy: 0.4756\n",
            "Epoch 23/30\n",
            "782/782 [==============================] - 3s 4ms/step - loss: 0.7056 - accuracy: 0.7379 - val_loss: 1.9834 - val_accuracy: 0.4897\n",
            "Epoch 24/30\n",
            "782/782 [==============================] - 3s 4ms/step - loss: 0.6647 - accuracy: 0.7532 - val_loss: 2.1990 - val_accuracy: 0.4655\n",
            "Epoch 25/30\n",
            "359/782 [============>.................] - ETA: 1s - loss: 0.6470 - accuracy: 0.7624"
          ],
          "name": "stdout"
        },
        {
          "output_type": "error",
          "ename": "KeyboardInterrupt",
          "evalue": "ignored",
          "traceback": [
            "\u001b[0;31m---------------------------------------------------------------------------\u001b[0m",
            "\u001b[0;31mKeyboardInterrupt\u001b[0m                         Traceback (most recent call last)",
            "\u001b[0;32m<ipython-input-12-a9df171a29bc>\u001b[0m in \u001b[0;36m<module>\u001b[0;34m()\u001b[0m\n\u001b[0;32m----> 1\u001b[0;31m \u001b[0mmodel\u001b[0m\u001b[0;34m.\u001b[0m\u001b[0mfit\u001b[0m\u001b[0;34m(\u001b[0m\u001b[0mx_train\u001b[0m\u001b[0;34m,\u001b[0m \u001b[0my_train_cat\u001b[0m\u001b[0;34m,\u001b[0m \u001b[0mbatch_size\u001b[0m\u001b[0;34m=\u001b[0m\u001b[0;36m64\u001b[0m\u001b[0;34m,\u001b[0m \u001b[0mepochs\u001b[0m\u001b[0;34m=\u001b[0m\u001b[0;36m30\u001b[0m\u001b[0;34m,\u001b[0m \u001b[0mvalidation_data\u001b[0m\u001b[0;34m=\u001b[0m\u001b[0;34m(\u001b[0m\u001b[0mx_test\u001b[0m\u001b[0;34m,\u001b[0m\u001b[0my_test_cat\u001b[0m\u001b[0;34m)\u001b[0m\u001b[0;34m)\u001b[0m\u001b[0;34m\u001b[0m\u001b[0;34m\u001b[0m\u001b[0m\n\u001b[0m",
            "\u001b[0;32m/usr/local/lib/python3.7/dist-packages/tensorflow/python/keras/engine/training.py\u001b[0m in \u001b[0;36mfit\u001b[0;34m(self, x, y, batch_size, epochs, verbose, callbacks, validation_split, validation_data, shuffle, class_weight, sample_weight, initial_epoch, steps_per_epoch, validation_steps, validation_batch_size, validation_freq, max_queue_size, workers, use_multiprocessing)\u001b[0m\n\u001b[1;32m   1103\u001b[0m               \u001b[0mlogs\u001b[0m \u001b[0;34m=\u001b[0m \u001b[0mtmp_logs\u001b[0m  \u001b[0;31m# No error, now safe to assign to logs.\u001b[0m\u001b[0;34m\u001b[0m\u001b[0;34m\u001b[0m\u001b[0m\n\u001b[1;32m   1104\u001b[0m               \u001b[0mend_step\u001b[0m \u001b[0;34m=\u001b[0m \u001b[0mstep\u001b[0m \u001b[0;34m+\u001b[0m \u001b[0mdata_handler\u001b[0m\u001b[0;34m.\u001b[0m\u001b[0mstep_increment\u001b[0m\u001b[0;34m\u001b[0m\u001b[0;34m\u001b[0m\u001b[0m\n\u001b[0;32m-> 1105\u001b[0;31m               \u001b[0mcallbacks\u001b[0m\u001b[0;34m.\u001b[0m\u001b[0mon_train_batch_end\u001b[0m\u001b[0;34m(\u001b[0m\u001b[0mend_step\u001b[0m\u001b[0;34m,\u001b[0m \u001b[0mlogs\u001b[0m\u001b[0;34m)\u001b[0m\u001b[0;34m\u001b[0m\u001b[0;34m\u001b[0m\u001b[0m\n\u001b[0m\u001b[1;32m   1106\u001b[0m               \u001b[0;32mif\u001b[0m \u001b[0mself\u001b[0m\u001b[0;34m.\u001b[0m\u001b[0mstop_training\u001b[0m\u001b[0;34m:\u001b[0m\u001b[0;34m\u001b[0m\u001b[0;34m\u001b[0m\u001b[0m\n\u001b[1;32m   1107\u001b[0m                 \u001b[0;32mbreak\u001b[0m\u001b[0;34m\u001b[0m\u001b[0;34m\u001b[0m\u001b[0m\n",
            "\u001b[0;32m/usr/local/lib/python3.7/dist-packages/tensorflow/python/keras/callbacks.py\u001b[0m in \u001b[0;36mon_train_batch_end\u001b[0;34m(self, batch, logs)\u001b[0m\n\u001b[1;32m    452\u001b[0m     \"\"\"\n\u001b[1;32m    453\u001b[0m     \u001b[0;32mif\u001b[0m \u001b[0mself\u001b[0m\u001b[0;34m.\u001b[0m\u001b[0m_should_call_train_batch_hooks\u001b[0m\u001b[0;34m:\u001b[0m\u001b[0;34m\u001b[0m\u001b[0;34m\u001b[0m\u001b[0m\n\u001b[0;32m--> 454\u001b[0;31m       \u001b[0mself\u001b[0m\u001b[0;34m.\u001b[0m\u001b[0m_call_batch_hook\u001b[0m\u001b[0;34m(\u001b[0m\u001b[0mModeKeys\u001b[0m\u001b[0;34m.\u001b[0m\u001b[0mTRAIN\u001b[0m\u001b[0;34m,\u001b[0m \u001b[0;34m'end'\u001b[0m\u001b[0;34m,\u001b[0m \u001b[0mbatch\u001b[0m\u001b[0;34m,\u001b[0m \u001b[0mlogs\u001b[0m\u001b[0;34m=\u001b[0m\u001b[0mlogs\u001b[0m\u001b[0;34m)\u001b[0m\u001b[0;34m\u001b[0m\u001b[0;34m\u001b[0m\u001b[0m\n\u001b[0m\u001b[1;32m    455\u001b[0m \u001b[0;34m\u001b[0m\u001b[0m\n\u001b[1;32m    456\u001b[0m   \u001b[0;32mdef\u001b[0m \u001b[0mon_test_batch_begin\u001b[0m\u001b[0;34m(\u001b[0m\u001b[0mself\u001b[0m\u001b[0;34m,\u001b[0m \u001b[0mbatch\u001b[0m\u001b[0;34m,\u001b[0m \u001b[0mlogs\u001b[0m\u001b[0;34m=\u001b[0m\u001b[0;32mNone\u001b[0m\u001b[0;34m)\u001b[0m\u001b[0;34m:\u001b[0m\u001b[0;34m\u001b[0m\u001b[0;34m\u001b[0m\u001b[0m\n",
            "\u001b[0;32m/usr/local/lib/python3.7/dist-packages/tensorflow/python/keras/callbacks.py\u001b[0m in \u001b[0;36m_call_batch_hook\u001b[0;34m(self, mode, hook, batch, logs)\u001b[0m\n\u001b[1;32m    294\u001b[0m       \u001b[0mself\u001b[0m\u001b[0;34m.\u001b[0m\u001b[0m_call_batch_begin_hook\u001b[0m\u001b[0;34m(\u001b[0m\u001b[0mmode\u001b[0m\u001b[0;34m,\u001b[0m \u001b[0mbatch\u001b[0m\u001b[0;34m,\u001b[0m \u001b[0mlogs\u001b[0m\u001b[0;34m)\u001b[0m\u001b[0;34m\u001b[0m\u001b[0;34m\u001b[0m\u001b[0m\n\u001b[1;32m    295\u001b[0m     \u001b[0;32melif\u001b[0m \u001b[0mhook\u001b[0m \u001b[0;34m==\u001b[0m \u001b[0;34m'end'\u001b[0m\u001b[0;34m:\u001b[0m\u001b[0;34m\u001b[0m\u001b[0;34m\u001b[0m\u001b[0m\n\u001b[0;32m--> 296\u001b[0;31m       \u001b[0mself\u001b[0m\u001b[0;34m.\u001b[0m\u001b[0m_call_batch_end_hook\u001b[0m\u001b[0;34m(\u001b[0m\u001b[0mmode\u001b[0m\u001b[0;34m,\u001b[0m \u001b[0mbatch\u001b[0m\u001b[0;34m,\u001b[0m \u001b[0mlogs\u001b[0m\u001b[0;34m)\u001b[0m\u001b[0;34m\u001b[0m\u001b[0;34m\u001b[0m\u001b[0m\n\u001b[0m\u001b[1;32m    297\u001b[0m     \u001b[0;32melse\u001b[0m\u001b[0;34m:\u001b[0m\u001b[0;34m\u001b[0m\u001b[0;34m\u001b[0m\u001b[0m\n\u001b[1;32m    298\u001b[0m       \u001b[0;32mraise\u001b[0m \u001b[0mValueError\u001b[0m\u001b[0;34m(\u001b[0m\u001b[0;34m'Unrecognized hook: {}'\u001b[0m\u001b[0;34m.\u001b[0m\u001b[0mformat\u001b[0m\u001b[0;34m(\u001b[0m\u001b[0mhook\u001b[0m\u001b[0;34m)\u001b[0m\u001b[0;34m)\u001b[0m\u001b[0;34m\u001b[0m\u001b[0;34m\u001b[0m\u001b[0m\n",
            "\u001b[0;32m/usr/local/lib/python3.7/dist-packages/tensorflow/python/keras/callbacks.py\u001b[0m in \u001b[0;36m_call_batch_end_hook\u001b[0;34m(self, mode, batch, logs)\u001b[0m\n\u001b[1;32m    314\u001b[0m       \u001b[0mself\u001b[0m\u001b[0;34m.\u001b[0m\u001b[0m_batch_times\u001b[0m\u001b[0;34m.\u001b[0m\u001b[0mappend\u001b[0m\u001b[0;34m(\u001b[0m\u001b[0mbatch_time\u001b[0m\u001b[0;34m)\u001b[0m\u001b[0;34m\u001b[0m\u001b[0;34m\u001b[0m\u001b[0m\n\u001b[1;32m    315\u001b[0m \u001b[0;34m\u001b[0m\u001b[0m\n\u001b[0;32m--> 316\u001b[0;31m     \u001b[0mself\u001b[0m\u001b[0;34m.\u001b[0m\u001b[0m_call_batch_hook_helper\u001b[0m\u001b[0;34m(\u001b[0m\u001b[0mhook_name\u001b[0m\u001b[0;34m,\u001b[0m \u001b[0mbatch\u001b[0m\u001b[0;34m,\u001b[0m \u001b[0mlogs\u001b[0m\u001b[0;34m)\u001b[0m\u001b[0;34m\u001b[0m\u001b[0;34m\u001b[0m\u001b[0m\n\u001b[0m\u001b[1;32m    317\u001b[0m \u001b[0;34m\u001b[0m\u001b[0m\n\u001b[1;32m    318\u001b[0m     \u001b[0;32mif\u001b[0m \u001b[0mlen\u001b[0m\u001b[0;34m(\u001b[0m\u001b[0mself\u001b[0m\u001b[0;34m.\u001b[0m\u001b[0m_batch_times\u001b[0m\u001b[0;34m)\u001b[0m \u001b[0;34m>=\u001b[0m \u001b[0mself\u001b[0m\u001b[0;34m.\u001b[0m\u001b[0m_num_batches_for_timing_check\u001b[0m\u001b[0;34m:\u001b[0m\u001b[0;34m\u001b[0m\u001b[0;34m\u001b[0m\u001b[0m\n",
            "\u001b[0;32m/usr/local/lib/python3.7/dist-packages/tensorflow/python/keras/callbacks.py\u001b[0m in \u001b[0;36m_call_batch_hook_helper\u001b[0;34m(self, hook_name, batch, logs)\u001b[0m\n\u001b[1;32m    354\u001b[0m       \u001b[0mhook\u001b[0m \u001b[0;34m=\u001b[0m \u001b[0mgetattr\u001b[0m\u001b[0;34m(\u001b[0m\u001b[0mcallback\u001b[0m\u001b[0;34m,\u001b[0m \u001b[0mhook_name\u001b[0m\u001b[0;34m)\u001b[0m\u001b[0;34m\u001b[0m\u001b[0;34m\u001b[0m\u001b[0m\n\u001b[1;32m    355\u001b[0m       \u001b[0;32mif\u001b[0m \u001b[0mgetattr\u001b[0m\u001b[0;34m(\u001b[0m\u001b[0mcallback\u001b[0m\u001b[0;34m,\u001b[0m \u001b[0;34m'_supports_tf_logs'\u001b[0m\u001b[0;34m,\u001b[0m \u001b[0;32mFalse\u001b[0m\u001b[0;34m)\u001b[0m\u001b[0;34m:\u001b[0m\u001b[0;34m\u001b[0m\u001b[0;34m\u001b[0m\u001b[0m\n\u001b[0;32m--> 356\u001b[0;31m         \u001b[0mhook\u001b[0m\u001b[0;34m(\u001b[0m\u001b[0mbatch\u001b[0m\u001b[0;34m,\u001b[0m \u001b[0mlogs\u001b[0m\u001b[0;34m)\u001b[0m\u001b[0;34m\u001b[0m\u001b[0;34m\u001b[0m\u001b[0m\n\u001b[0m\u001b[1;32m    357\u001b[0m       \u001b[0;32melse\u001b[0m\u001b[0;34m:\u001b[0m\u001b[0;34m\u001b[0m\u001b[0;34m\u001b[0m\u001b[0m\n\u001b[1;32m    358\u001b[0m         \u001b[0;32mif\u001b[0m \u001b[0mnumpy_logs\u001b[0m \u001b[0;32mis\u001b[0m \u001b[0;32mNone\u001b[0m\u001b[0;34m:\u001b[0m  \u001b[0;31m# Only convert once.\u001b[0m\u001b[0;34m\u001b[0m\u001b[0;34m\u001b[0m\u001b[0m\n",
            "\u001b[0;32m/usr/local/lib/python3.7/dist-packages/tensorflow/python/keras/callbacks.py\u001b[0m in \u001b[0;36mon_train_batch_end\u001b[0;34m(self, batch, logs)\u001b[0m\n\u001b[1;32m   1018\u001b[0m \u001b[0;34m\u001b[0m\u001b[0m\n\u001b[1;32m   1019\u001b[0m   \u001b[0;32mdef\u001b[0m \u001b[0mon_train_batch_end\u001b[0m\u001b[0;34m(\u001b[0m\u001b[0mself\u001b[0m\u001b[0;34m,\u001b[0m \u001b[0mbatch\u001b[0m\u001b[0;34m,\u001b[0m \u001b[0mlogs\u001b[0m\u001b[0;34m=\u001b[0m\u001b[0;32mNone\u001b[0m\u001b[0;34m)\u001b[0m\u001b[0;34m:\u001b[0m\u001b[0;34m\u001b[0m\u001b[0;34m\u001b[0m\u001b[0m\n\u001b[0;32m-> 1020\u001b[0;31m     \u001b[0mself\u001b[0m\u001b[0;34m.\u001b[0m\u001b[0m_batch_update_progbar\u001b[0m\u001b[0;34m(\u001b[0m\u001b[0mbatch\u001b[0m\u001b[0;34m,\u001b[0m \u001b[0mlogs\u001b[0m\u001b[0;34m)\u001b[0m\u001b[0;34m\u001b[0m\u001b[0;34m\u001b[0m\u001b[0m\n\u001b[0m\u001b[1;32m   1021\u001b[0m \u001b[0;34m\u001b[0m\u001b[0m\n\u001b[1;32m   1022\u001b[0m   \u001b[0;32mdef\u001b[0m \u001b[0mon_test_batch_end\u001b[0m\u001b[0;34m(\u001b[0m\u001b[0mself\u001b[0m\u001b[0;34m,\u001b[0m \u001b[0mbatch\u001b[0m\u001b[0;34m,\u001b[0m \u001b[0mlogs\u001b[0m\u001b[0;34m=\u001b[0m\u001b[0;32mNone\u001b[0m\u001b[0;34m)\u001b[0m\u001b[0;34m:\u001b[0m\u001b[0;34m\u001b[0m\u001b[0;34m\u001b[0m\u001b[0m\n",
            "\u001b[0;32m/usr/local/lib/python3.7/dist-packages/tensorflow/python/keras/callbacks.py\u001b[0m in \u001b[0;36m_batch_update_progbar\u001b[0;34m(self, batch, logs)\u001b[0m\n\u001b[1;32m   1082\u001b[0m     \u001b[0;32mif\u001b[0m \u001b[0mself\u001b[0m\u001b[0;34m.\u001b[0m\u001b[0mverbose\u001b[0m \u001b[0;34m==\u001b[0m \u001b[0;36m1\u001b[0m\u001b[0;34m:\u001b[0m\u001b[0;34m\u001b[0m\u001b[0;34m\u001b[0m\u001b[0m\n\u001b[1;32m   1083\u001b[0m       \u001b[0;31m# Only block async when verbose = 1.\u001b[0m\u001b[0;34m\u001b[0m\u001b[0;34m\u001b[0m\u001b[0;34m\u001b[0m\u001b[0m\n\u001b[0;32m-> 1084\u001b[0;31m       \u001b[0mlogs\u001b[0m \u001b[0;34m=\u001b[0m \u001b[0mtf_utils\u001b[0m\u001b[0;34m.\u001b[0m\u001b[0mto_numpy_or_python_type\u001b[0m\u001b[0;34m(\u001b[0m\u001b[0mlogs\u001b[0m\u001b[0;34m)\u001b[0m\u001b[0;34m\u001b[0m\u001b[0;34m\u001b[0m\u001b[0m\n\u001b[0m\u001b[1;32m   1085\u001b[0m       \u001b[0mself\u001b[0m\u001b[0;34m.\u001b[0m\u001b[0mprogbar\u001b[0m\u001b[0;34m.\u001b[0m\u001b[0mupdate\u001b[0m\u001b[0;34m(\u001b[0m\u001b[0mself\u001b[0m\u001b[0;34m.\u001b[0m\u001b[0mseen\u001b[0m\u001b[0;34m,\u001b[0m \u001b[0mlist\u001b[0m\u001b[0;34m(\u001b[0m\u001b[0mlogs\u001b[0m\u001b[0;34m.\u001b[0m\u001b[0mitems\u001b[0m\u001b[0;34m(\u001b[0m\u001b[0;34m)\u001b[0m\u001b[0;34m)\u001b[0m\u001b[0;34m,\u001b[0m \u001b[0mfinalize\u001b[0m\u001b[0;34m=\u001b[0m\u001b[0;32mFalse\u001b[0m\u001b[0;34m)\u001b[0m\u001b[0;34m\u001b[0m\u001b[0;34m\u001b[0m\u001b[0m\n\u001b[1;32m   1086\u001b[0m \u001b[0;34m\u001b[0m\u001b[0m\n",
            "\u001b[0;32m/usr/local/lib/python3.7/dist-packages/tensorflow/python/keras/utils/tf_utils.py\u001b[0m in \u001b[0;36mto_numpy_or_python_type\u001b[0;34m(tensors)\u001b[0m\n\u001b[1;32m    512\u001b[0m     \u001b[0;32mreturn\u001b[0m \u001b[0mt\u001b[0m  \u001b[0;31m# Don't turn ragged or sparse tensors to NumPy.\u001b[0m\u001b[0;34m\u001b[0m\u001b[0;34m\u001b[0m\u001b[0m\n\u001b[1;32m    513\u001b[0m \u001b[0;34m\u001b[0m\u001b[0m\n\u001b[0;32m--> 514\u001b[0;31m   \u001b[0;32mreturn\u001b[0m \u001b[0mnest\u001b[0m\u001b[0;34m.\u001b[0m\u001b[0mmap_structure\u001b[0m\u001b[0;34m(\u001b[0m\u001b[0m_to_single_numpy_or_python_type\u001b[0m\u001b[0;34m,\u001b[0m \u001b[0mtensors\u001b[0m\u001b[0;34m)\u001b[0m\u001b[0;34m\u001b[0m\u001b[0;34m\u001b[0m\u001b[0m\n\u001b[0m\u001b[1;32m    515\u001b[0m \u001b[0;34m\u001b[0m\u001b[0m\n\u001b[1;32m    516\u001b[0m \u001b[0;34m\u001b[0m\u001b[0m\n",
            "\u001b[0;32m/usr/local/lib/python3.7/dist-packages/tensorflow/python/util/nest.py\u001b[0m in \u001b[0;36mmap_structure\u001b[0;34m(func, *structure, **kwargs)\u001b[0m\n\u001b[1;32m    657\u001b[0m \u001b[0;34m\u001b[0m\u001b[0m\n\u001b[1;32m    658\u001b[0m   return pack_sequence_as(\n\u001b[0;32m--> 659\u001b[0;31m       \u001b[0mstructure\u001b[0m\u001b[0;34m[\u001b[0m\u001b[0;36m0\u001b[0m\u001b[0;34m]\u001b[0m\u001b[0;34m,\u001b[0m \u001b[0;34m[\u001b[0m\u001b[0mfunc\u001b[0m\u001b[0;34m(\u001b[0m\u001b[0;34m*\u001b[0m\u001b[0mx\u001b[0m\u001b[0;34m)\u001b[0m \u001b[0;32mfor\u001b[0m \u001b[0mx\u001b[0m \u001b[0;32min\u001b[0m \u001b[0mentries\u001b[0m\u001b[0;34m]\u001b[0m\u001b[0;34m,\u001b[0m\u001b[0;34m\u001b[0m\u001b[0;34m\u001b[0m\u001b[0m\n\u001b[0m\u001b[1;32m    660\u001b[0m       expand_composites=expand_composites)\n\u001b[1;32m    661\u001b[0m \u001b[0;34m\u001b[0m\u001b[0m\n",
            "\u001b[0;32m/usr/local/lib/python3.7/dist-packages/tensorflow/python/util/nest.py\u001b[0m in \u001b[0;36m<listcomp>\u001b[0;34m(.0)\u001b[0m\n\u001b[1;32m    657\u001b[0m \u001b[0;34m\u001b[0m\u001b[0m\n\u001b[1;32m    658\u001b[0m   return pack_sequence_as(\n\u001b[0;32m--> 659\u001b[0;31m       \u001b[0mstructure\u001b[0m\u001b[0;34m[\u001b[0m\u001b[0;36m0\u001b[0m\u001b[0;34m]\u001b[0m\u001b[0;34m,\u001b[0m \u001b[0;34m[\u001b[0m\u001b[0mfunc\u001b[0m\u001b[0;34m(\u001b[0m\u001b[0;34m*\u001b[0m\u001b[0mx\u001b[0m\u001b[0;34m)\u001b[0m \u001b[0;32mfor\u001b[0m \u001b[0mx\u001b[0m \u001b[0;32min\u001b[0m \u001b[0mentries\u001b[0m\u001b[0;34m]\u001b[0m\u001b[0;34m,\u001b[0m\u001b[0;34m\u001b[0m\u001b[0;34m\u001b[0m\u001b[0m\n\u001b[0m\u001b[1;32m    660\u001b[0m       expand_composites=expand_composites)\n\u001b[1;32m    661\u001b[0m \u001b[0;34m\u001b[0m\u001b[0m\n",
            "\u001b[0;32m/usr/local/lib/python3.7/dist-packages/tensorflow/python/keras/utils/tf_utils.py\u001b[0m in \u001b[0;36m_to_single_numpy_or_python_type\u001b[0;34m(t)\u001b[0m\n\u001b[1;32m    508\u001b[0m   \u001b[0;32mdef\u001b[0m \u001b[0m_to_single_numpy_or_python_type\u001b[0m\u001b[0;34m(\u001b[0m\u001b[0mt\u001b[0m\u001b[0;34m)\u001b[0m\u001b[0;34m:\u001b[0m\u001b[0;34m\u001b[0m\u001b[0;34m\u001b[0m\u001b[0m\n\u001b[1;32m    509\u001b[0m     \u001b[0;32mif\u001b[0m \u001b[0misinstance\u001b[0m\u001b[0;34m(\u001b[0m\u001b[0mt\u001b[0m\u001b[0;34m,\u001b[0m \u001b[0mops\u001b[0m\u001b[0;34m.\u001b[0m\u001b[0mTensor\u001b[0m\u001b[0;34m)\u001b[0m\u001b[0;34m:\u001b[0m\u001b[0;34m\u001b[0m\u001b[0;34m\u001b[0m\u001b[0m\n\u001b[0;32m--> 510\u001b[0;31m       \u001b[0mx\u001b[0m \u001b[0;34m=\u001b[0m \u001b[0mt\u001b[0m\u001b[0;34m.\u001b[0m\u001b[0mnumpy\u001b[0m\u001b[0;34m(\u001b[0m\u001b[0;34m)\u001b[0m\u001b[0;34m\u001b[0m\u001b[0;34m\u001b[0m\u001b[0m\n\u001b[0m\u001b[1;32m    511\u001b[0m       \u001b[0;32mreturn\u001b[0m \u001b[0mx\u001b[0m\u001b[0;34m.\u001b[0m\u001b[0mitem\u001b[0m\u001b[0;34m(\u001b[0m\u001b[0;34m)\u001b[0m \u001b[0;32mif\u001b[0m \u001b[0mnp\u001b[0m\u001b[0;34m.\u001b[0m\u001b[0mndim\u001b[0m\u001b[0;34m(\u001b[0m\u001b[0mx\u001b[0m\u001b[0;34m)\u001b[0m \u001b[0;34m==\u001b[0m \u001b[0;36m0\u001b[0m \u001b[0;32melse\u001b[0m \u001b[0mx\u001b[0m\u001b[0;34m\u001b[0m\u001b[0;34m\u001b[0m\u001b[0m\n\u001b[1;32m    512\u001b[0m     \u001b[0;32mreturn\u001b[0m \u001b[0mt\u001b[0m  \u001b[0;31m# Don't turn ragged or sparse tensors to NumPy.\u001b[0m\u001b[0;34m\u001b[0m\u001b[0;34m\u001b[0m\u001b[0m\n",
            "\u001b[0;32m/usr/local/lib/python3.7/dist-packages/tensorflow/python/framework/ops.py\u001b[0m in \u001b[0;36mnumpy\u001b[0;34m(self)\u001b[0m\n\u001b[1;32m   1069\u001b[0m     \"\"\"\n\u001b[1;32m   1070\u001b[0m     \u001b[0;31m# TODO(slebedev): Consider avoiding a copy for non-CPU or remote tensors.\u001b[0m\u001b[0;34m\u001b[0m\u001b[0;34m\u001b[0m\u001b[0;34m\u001b[0m\u001b[0m\n\u001b[0;32m-> 1071\u001b[0;31m     \u001b[0mmaybe_arr\u001b[0m \u001b[0;34m=\u001b[0m \u001b[0mself\u001b[0m\u001b[0;34m.\u001b[0m\u001b[0m_numpy\u001b[0m\u001b[0;34m(\u001b[0m\u001b[0;34m)\u001b[0m  \u001b[0;31m# pylint: disable=protected-access\u001b[0m\u001b[0;34m\u001b[0m\u001b[0;34m\u001b[0m\u001b[0m\n\u001b[0m\u001b[1;32m   1072\u001b[0m     \u001b[0;32mreturn\u001b[0m \u001b[0mmaybe_arr\u001b[0m\u001b[0;34m.\u001b[0m\u001b[0mcopy\u001b[0m\u001b[0;34m(\u001b[0m\u001b[0;34m)\u001b[0m \u001b[0;32mif\u001b[0m \u001b[0misinstance\u001b[0m\u001b[0;34m(\u001b[0m\u001b[0mmaybe_arr\u001b[0m\u001b[0;34m,\u001b[0m \u001b[0mnp\u001b[0m\u001b[0;34m.\u001b[0m\u001b[0mndarray\u001b[0m\u001b[0;34m)\u001b[0m \u001b[0;32melse\u001b[0m \u001b[0mmaybe_arr\u001b[0m\u001b[0;34m\u001b[0m\u001b[0;34m\u001b[0m\u001b[0m\n\u001b[1;32m   1073\u001b[0m \u001b[0;34m\u001b[0m\u001b[0m\n",
            "\u001b[0;32m/usr/local/lib/python3.7/dist-packages/tensorflow/python/framework/ops.py\u001b[0m in \u001b[0;36m_numpy\u001b[0;34m(self)\u001b[0m\n\u001b[1;32m   1035\u001b[0m   \u001b[0;32mdef\u001b[0m \u001b[0m_numpy\u001b[0m\u001b[0;34m(\u001b[0m\u001b[0mself\u001b[0m\u001b[0;34m)\u001b[0m\u001b[0;34m:\u001b[0m\u001b[0;34m\u001b[0m\u001b[0;34m\u001b[0m\u001b[0m\n\u001b[1;32m   1036\u001b[0m     \u001b[0;32mtry\u001b[0m\u001b[0;34m:\u001b[0m\u001b[0;34m\u001b[0m\u001b[0;34m\u001b[0m\u001b[0m\n\u001b[0;32m-> 1037\u001b[0;31m       \u001b[0;32mreturn\u001b[0m \u001b[0mself\u001b[0m\u001b[0;34m.\u001b[0m\u001b[0m_numpy_internal\u001b[0m\u001b[0;34m(\u001b[0m\u001b[0;34m)\u001b[0m\u001b[0;34m\u001b[0m\u001b[0;34m\u001b[0m\u001b[0m\n\u001b[0m\u001b[1;32m   1038\u001b[0m     \u001b[0;32mexcept\u001b[0m \u001b[0mcore\u001b[0m\u001b[0;34m.\u001b[0m\u001b[0m_NotOkStatusException\u001b[0m \u001b[0;32mas\u001b[0m \u001b[0me\u001b[0m\u001b[0;34m:\u001b[0m  \u001b[0;31m# pylint: disable=protected-access\u001b[0m\u001b[0;34m\u001b[0m\u001b[0;34m\u001b[0m\u001b[0m\n\u001b[1;32m   1039\u001b[0m       \u001b[0msix\u001b[0m\u001b[0;34m.\u001b[0m\u001b[0mraise_from\u001b[0m\u001b[0;34m(\u001b[0m\u001b[0mcore\u001b[0m\u001b[0;34m.\u001b[0m\u001b[0m_status_to_exception\u001b[0m\u001b[0;34m(\u001b[0m\u001b[0me\u001b[0m\u001b[0;34m.\u001b[0m\u001b[0mcode\u001b[0m\u001b[0;34m,\u001b[0m \u001b[0me\u001b[0m\u001b[0;34m.\u001b[0m\u001b[0mmessage\u001b[0m\u001b[0;34m)\u001b[0m\u001b[0;34m,\u001b[0m \u001b[0;32mNone\u001b[0m\u001b[0;34m)\u001b[0m  \u001b[0;31m# pylint: disable=protected-access\u001b[0m\u001b[0;34m\u001b[0m\u001b[0;34m\u001b[0m\u001b[0m\n",
            "\u001b[0;31mKeyboardInterrupt\u001b[0m: "
          ]
        }
      ]
    }
  ]
}